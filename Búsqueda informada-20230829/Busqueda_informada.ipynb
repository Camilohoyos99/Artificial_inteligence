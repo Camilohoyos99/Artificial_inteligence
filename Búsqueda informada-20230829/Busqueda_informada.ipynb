{
 "cells": [
  {
   "cell_type": "markdown",
   "metadata": {
    "colab_type": "text",
    "id": "TpmFfXsQ0dYI"
   },
   "source": [
    "<table>\n",
    "    <tr>\n",
    "        <td><img src=\"./imagenes/Macc.png\" width=\"400\"/></td>\n",
    "        <td>&nbsp;</td>\n",
    "        <td>\n",
    "            <h1 style=\"color:blue;text-align:left\">Inteligencia Artificial</h1></td>\n",
    "        <td>\n",
    "            <table><tr>\n",
    "            <tp><p style=\"font-size:150%;text-align:center\">Notebook 6</p></tp>\n",
    "            <tp><p style=\"font-size:150%;text-align:center\">Búsqueda informada</p></tp>\n",
    "            </tr></table>\n",
    "        </td>\n",
    "    </tr>\n",
    "</table>\n",
    "\n",
    "---"
   ]
  },
  {
   "cell_type": "markdown",
   "metadata": {
    "colab_type": "text",
    "id": "V3SkDSWJ0dYJ"
   },
   "source": [
    "## Objetivo <a class=\"anchor\" id=\"inicio\"></a>\n",
    "\n",
    "El objetivo principal de este notebook es el de desarrollar los algoritmos que usan información propia del problema para hacer una búsqueda más eficiente en el espacio de estados. A esta familia de algoritmos se le conoce como *búsqueda informada*. Tenemos tres algoritmos principales, a saber, el algoritmo de Dijkstra (que se pronuncia \"daecstra\"), el algoritmo avaro y el $A^*$.\n",
    "\n",
    "Antes de presentar los algoritmos haremos un pequeño desvío por la comparación empírica de algoritmos mediante el tiempo en CPU. También veremos una implementación de listas prioritarias."
   ]
  },
  {
   "cell_type": "markdown",
   "metadata": {},
   "source": [
    "[Ir al ejercicio 1](#ej1)"
   ]
  },
  {
   "cell_type": "markdown",
   "metadata": {},
   "source": [
    "## Dependencias\n",
    "\n",
    "Al iniciar el notebook o reiniciar el kerner se pueden cargar todas las dependencias de este notebook corriendo las siguientes celdas. Este también es el lugar para instalar las dependencias que podrían hacer falta."
   ]
  },
  {
   "cell_type": "markdown",
   "metadata": {},
   "source": [
    "**De Python:**"
   ]
  },
  {
   "cell_type": "code",
   "execution_count": 1,
   "metadata": {},
   "outputs": [],
   "source": [
    "import numpy as np\n",
    "import pandas as pd\n",
    "import matplotlib.pyplot as plt\n",
    "import seaborn as sns\n",
    "from types import MethodType\n",
    "import warnings\n",
    "warnings.filterwarnings('ignore')"
   ]
  },
  {
   "cell_type": "markdown",
   "metadata": {},
   "source": [
    "**Del notebook:**"
   ]
  },
  {
   "cell_type": "code",
   "execution_count": 2,
   "metadata": {},
   "outputs": [],
   "source": [
    "from busqueda import *\n",
    "from tiempos import compara_funciones\n",
    "from testSuits import test_suit_heuristicas_rompecabezas\n",
    "from ambientes import OchoReinas, ViajeRumania, Laberinto, Rompecabezas"
   ]
  },
  {
   "cell_type": "markdown",
   "metadata": {
    "colab_type": "text",
    "id": "5HnQ_gA70dYL"
   },
   "source": [
    "## Secciones\n",
    "\n",
    "Desarrollaremos la explicación de la siguiente manera:\n",
    "\n",
    "* [Comparación de tiempos](#tiempos).\n",
    "* [Listas prioritarias](#listasp).\n",
    "* [Problema del viaje a Rumania](#rumania).\n",
    "* [Algoritmo de Dijkstra](#dijkstra).\n",
    "* [Búsqueda avara](#avara).\n",
    "* [Problema del 8 puzzle](#8puzzle).\n",
    "* [Heurísticas para el 8 puzzle](#heuristicas).\n",
    "* [Comparación de las heurísticas](#compara).\n",
    "* [Algoritmo A*](#a_star)."
   ]
  },
  {
   "cell_type": "markdown",
   "metadata": {},
   "source": [
    "## Comparación empírica de tiempos <a class=\"anchor\" id=\"tiempos\"></a>\n",
    "\n",
    "([Volver al inicio](#inicio))\n",
    "\n",
    "La eficiencia de los algoritmos es un tema central en las ciencias de la computación. Ella se estudia usalmente de manera teórica, respecto al tiempo y memoria que consume un algoritmo al correr en un modelo de computación respecto a varios tipos de entradas. En este curso usaremos un enfoque alternativo, aunque también bastante común, a saber, usaremos el tiempo en CPU para evaluar la eficiencia de los algoritmos. Este enfoque no reemplaza al teórico y es sólo una aproximación al mismo. \n",
    "\n",
    "Debemos tener presente que el computador es una pieza de hardware cuyos tiempos de funcionamiento dependen de muchas cosas (nivel de energía, estado del hardware, etc.). Además, un computador realiza muchas tareas al mismo tiempo. En consecuencia, medir los tiempos del computador para evaluar una función requiere tratar de cancelar todo este ruido alrededor. Una manera de hacerlo es obtener varias mediciones del mismo proceso. \n",
    "\n",
    "Vamos a hacer un ejemplo con el problema de las ocho reinas. Inicializamos un tablero ya con tres reinas (de lo contrario, los algoritmos tomarán mucho tiempo en terminar)."
   ]
  },
  {
   "cell_type": "code",
   "execution_count": 3,
   "metadata": {},
   "outputs": [],
   "source": [
    "prob = OchoReinas()\n",
    "s = prob.estado_inicial\n",
    "s = prob.transicion(s,(0,4))\n",
    "s = prob.transicion(s,(1,6))\n",
    "s = prob.transicion(s,(2,1))\n",
    "prob.estado_inicial = s # Modificamos el estado inicial por defecto del problema"
   ]
  },
  {
   "cell_type": "markdown",
   "metadata": {},
   "source": [
    "Ahora encontramos los tiempos en CPU usando la función `compara_funciones` que se encuentra en el módulo `tiempos.py`."
   ]
  },
  {
   "cell_type": "code",
   "execution_count": 4,
   "metadata": {},
   "outputs": [],
   "source": [
    "funs = [anchura,\n",
    "        profundidad,\n",
    "        lambda problema: backtracking(problema, Nodo(problema.estado_inicial, None, None, 0, problema.codigo(problema.estado_inicial)))]\n",
    "args = [[prob],[prob],[prob]]\n",
    "nombres = ['Primero en anchura', \n",
    "           'Primero en profundidad', \n",
    "           'Backtracking']\n",
    "data = compara_funciones(lista_funs=funs, \n",
    "                         lista_args=args, \n",
    "                         lista_nombres=nombres, \n",
    "                         num_it=10)"
   ]
  },
  {
   "cell_type": "markdown",
   "metadata": {},
   "source": [
    "Los resultados los hemos guardado en el dataframe `data`. Podemos correr unas estadísticas descriptivas:"
   ]
  },
  {
   "cell_type": "code",
   "execution_count": 5,
   "metadata": {},
   "outputs": [
    {
     "data": {
      "text/html": [
       "<div>\n",
       "<style scoped>\n",
       "    .dataframe tbody tr th:only-of-type {\n",
       "        vertical-align: middle;\n",
       "    }\n",
       "\n",
       "    .dataframe tbody tr th {\n",
       "        vertical-align: top;\n",
       "    }\n",
       "\n",
       "    .dataframe thead tr th {\n",
       "        text-align: left;\n",
       "    }\n",
       "\n",
       "    .dataframe thead tr:last-of-type th {\n",
       "        text-align: right;\n",
       "    }\n",
       "</style>\n",
       "<table border=\"1\" class=\"dataframe\">\n",
       "  <thead>\n",
       "    <tr>\n",
       "      <th></th>\n",
       "      <th colspan=\"2\" halign=\"left\">tiempo_CPU</th>\n",
       "    </tr>\n",
       "    <tr>\n",
       "      <th></th>\n",
       "      <th>mean</th>\n",
       "      <th>std</th>\n",
       "    </tr>\n",
       "    <tr>\n",
       "      <th>Función</th>\n",
       "      <th></th>\n",
       "      <th></th>\n",
       "    </tr>\n",
       "  </thead>\n",
       "  <tbody>\n",
       "    <tr>\n",
       "      <th>Backtracking</th>\n",
       "      <td>0.009306</td>\n",
       "      <td>0.002378</td>\n",
       "    </tr>\n",
       "    <tr>\n",
       "      <th>Primero en anchura</th>\n",
       "      <td>0.660961</td>\n",
       "      <td>0.029803</td>\n",
       "    </tr>\n",
       "    <tr>\n",
       "      <th>Primero en profundidad</th>\n",
       "      <td>0.012006</td>\n",
       "      <td>0.000715</td>\n",
       "    </tr>\n",
       "  </tbody>\n",
       "</table>\n",
       "</div>"
      ],
      "text/plain": [
       "                       tiempo_CPU          \n",
       "                             mean       std\n",
       "Función                                    \n",
       "Backtracking             0.009306  0.002378\n",
       "Primero en anchura       0.660961  0.029803\n",
       "Primero en profundidad   0.012006  0.000715"
      ]
     },
     "execution_count": 5,
     "metadata": {},
     "output_type": "execute_result"
    }
   ],
   "source": [
    "data.groupby('Función').agg({'tiempo_CPU':['mean', 'std']})"
   ]
  },
  {
   "cell_type": "markdown",
   "metadata": {},
   "source": [
    "Observe que el más lento es primero en anchura y el más rápido el backtracking. Esta información se puede presentar visualmente mediante unos diagramas de caja y bigotes:"
   ]
  },
  {
   "cell_type": "code",
   "execution_count": 6,
   "metadata": {},
   "outputs": [
    {
     "data": {
      "text/plain": [
       "<Axes: xlabel='Función', ylabel='tiempo_CPU'>"
      ]
     },
     "execution_count": 6,
     "metadata": {},
     "output_type": "execute_result"
    },
    {
     "data": {
      "image/png": "[encoded data removed]",
      "text/plain": [
       "<Figure size 900x300 with 1 Axes>"
      ]
     },
     "metadata": {},
     "output_type": "display_data"
    }
   ],
   "source": [
    "fig, ax = plt.subplots(1,1, figsize=(3*len(funs),3), tight_layout=True)\n",
    "sns.boxplot(data=data, x='Función', y='tiempo_CPU')"
   ]
  },
  {
   "cell_type": "markdown",
   "metadata": {},
   "source": [
    "Como los algoritmos primero en profundidad y backtracking tienen desempeños muy similares, en comparación con el primero en anchura, vale la pena hacer una visualización solo de los dos primeros:"
   ]
  },
  {
   "cell_type": "code",
   "execution_count": 7,
   "metadata": {},
   "outputs": [
    {
     "data": {
      "text/plain": [
       "<Axes: xlabel='Función', ylabel='tiempo_CPU'>"
      ]
     },
     "execution_count": 7,
     "metadata": {},
     "output_type": "execute_result"
    },
    {
     "data": {
      "image/png": "[encoded data removed]",
      "text/plain": [
       "<Figure size 600x300 with 1 Axes>"
      ]
     },
     "metadata": {},
     "output_type": "display_data"
    }
   ],
   "source": [
    "ganadores = ['Primero en profundidad', 'Backtracking']\n",
    "data_2 = data[data.Función.isin(ganadores)]\n",
    "fig, ax = plt.subplots(1,1, figsize=(6,3), tight_layout=True)\n",
    "sns.boxplot(data=data_2, x='Función', y='tiempo_CPU')"
   ]
  },
  {
   "cell_type": "markdown",
   "metadata": {},
   "source": [
    "## Listas prioritarias <a class=\"anchor\" id=\"listasp\"></a>\n",
    "\n",
    "([Volver al inicio](#inicio))\n",
    "\n",
    "En una lista prioritaria los elementos tienen una prioridad de acuerdo al valor que reciben por una función de evaluación $f$. Para este tipo de listas, la acción POP remueve y retorna el elemento prioritario, que es aquel con valor mínimo de $f$. Cuando dos elementos tienen la misma prioridad, el primer elemento en ser incluido es el primero en salir.\n",
    "\n",
    "Existen librerías que proporcionan objetos que implementan listas prioritarias, como <a href=\"https://pypi.org/project/HeapDict/\">heapdict</a>. Aquí utilizaremos el siguiente objeto `ListaPrioritaria` para implementar las listas prioritarias:"
   ]
  },
  {
   "cell_type": "code",
   "execution_count": 8,
   "metadata": {},
   "outputs": [],
   "source": [
    "import numpy as np\n",
    "from collections import namedtuple\n",
    "\n",
    "Tupla = namedtuple('Tupla', ['elemento', 'valor'])\n",
    "class ListaPrioritaria():\n",
    "    \n",
    "    def __init__(self):\n",
    "        self.pila = []\n",
    "        \n",
    "    def __len__(self):\n",
    "        return len(self.pila)\n",
    "\n",
    "    def push(self, elemento, valor):\n",
    "        tupla = Tupla(elemento, valor)\n",
    "        self.pila.append(tupla)\n",
    "        self.pila.sort(key=lambda x: x[1])\n",
    "            \n",
    "    def pop(self):\n",
    "        return self.pila.pop(0)[0]\n",
    "    \n",
    "    def is_empty(self):\n",
    "        return len(self.pila) == 0\n",
    "    \n",
    "    def __len__(self):\n",
    "        return len(self.pila)\n",
    "\n",
    "    def __str__(self):\n",
    "        cadena = '['\n",
    "        inicial = True\n",
    "        for elemento, valor in self.pila:\n",
    "            if inicial:\n",
    "                cadena += '(' + str(elemento) + ',' + str(valor) + ')'\n",
    "                inicial = False\n",
    "            else:\n",
    "                cadena += ', (' + str(elemento) + ',' + str(valor) + ')'\n",
    "        return cadena + ']'"
   ]
  },
  {
   "cell_type": "markdown",
   "metadata": {},
   "source": [
    "La idea detrás de este objeto es mantener una lista de parejas (elemento, valor), que se ordena por el valor, es decir, el segundo elemento de la pareja. De esta manera, al llamar el método `pop`, se devuelve el primer argumento de la pareja de menor valor.\n",
    "\n",
    "Vamos a incluir algunos elementos en nuestra lista. Observe que incluimos las prioridades manualmente, sin recurrir a una función $f$:"
   ]
  },
  {
   "cell_type": "code",
   "execution_count": 9,
   "metadata": {},
   "outputs": [
    {
     "name": "stdout",
     "output_type": "stream",
     "text": [
      "La lista prioritaria: [(k,1), (g,2), (s,2), (e,3)]\n"
     ]
    }
   ],
   "source": [
    "lista = ListaPrioritaria()\n",
    "lista.push('g', 2)\n",
    "lista.push('e', 3)\n",
    "lista.push('k', 1)\n",
    "lista.push('s', 2)\n",
    "print(\"La lista prioritaria:\", lista)"
   ]
  },
  {
   "cell_type": "markdown",
   "metadata": {},
   "source": [
    "El método `pop` devuelve el elemento prioritario:"
   ]
  },
  {
   "cell_type": "code",
   "execution_count": 10,
   "metadata": {},
   "outputs": [
    {
     "data": {
      "text/plain": [
       "'k'"
      ]
     },
     "execution_count": 10,
     "metadata": {},
     "output_type": "execute_result"
    }
   ],
   "source": [
    "n = lista.pop()\n",
    "n"
   ]
  },
  {
   "cell_type": "markdown",
   "metadata": {},
   "source": [
    "Observe que tanto 'g' como 's' tienen la misma prioridad. No obstante, 'g' fue el primero en ser incluido en `lista` y, por lo tanto, es el primero en salir:"
   ]
  },
  {
   "cell_type": "code",
   "execution_count": 11,
   "metadata": {},
   "outputs": [
    {
     "name": "stdout",
     "output_type": "stream",
     "text": [
      "La lista prioritaria: [(g,2), (s,2), (e,3)]\n",
      "Al hacer pop con dos elementos con el mismo valor se obtiene: g\n"
     ]
    }
   ],
   "source": [
    "print(\"La lista prioritaria:\", lista)\n",
    "print(\"Al hacer pop con dos elementos con el mismo valor se obtiene:\", lista.pop())"
   ]
  },
  {
   "cell_type": "markdown",
   "metadata": {},
   "source": [
    "Para determinar si la lista prioritaria está vacía, usamos el método `is_empty`."
   ]
  },
  {
   "cell_type": "code",
   "execution_count": 12,
   "metadata": {},
   "outputs": [
    {
     "name": "stdout",
     "output_type": "stream",
     "text": [
      "La lista prioritaria: [(s,2), (e,3)]\n",
      "Longitud: 2\n",
      "Lista vacía? False\n"
     ]
    }
   ],
   "source": [
    "print(\"La lista prioritaria:\", lista)\n",
    "print(\"Longitud:\", len(lista))\n",
    "print(\"Lista vacía?\", lista.is_empty())"
   ]
  },
  {
   "cell_type": "markdown",
   "metadata": {},
   "source": [
    "## El problema del viaje a Rumania <a class=\"anchor\" id=\"rumania\"></a>\n",
    "\n",
    "([Volver al inicio](#inicio))\n",
    "\n",
    "Imagine que usted viaja a Rumania y que desconoce por completo el país, pero tiene a mano un mapa de los caminos, que le indica las longitudes en kilómetros, como el siguiente:\n",
    "\n",
    "<img src=\"./imagenes/Rumania.png\" width=\"500px\"/>\n",
    "\n",
    "El problema consiste en, dada una ciudad de salida y una ciudad de llegada, encontrar el camino más corto."
   ]
  },
  {
   "cell_type": "markdown",
   "metadata": {},
   "source": [
    "<a class=\"anchor\" id=\"ej1\"></a>**Ejercicio 1:** \n",
    "\n",
    "([Próximo ejercicio](#ej2))\n",
    "\n",
    "Complete la definición formal del problema del viaje a Rumania:    \n",
    "\n",
    "* **Estado inicial**: \n",
    "\n",
    "* **Posibles acciones**: \n",
    "\n",
    "* **Función de transiciones**: \n",
    "\n",
    "* **Prueba de satisfacción del objetivo**: \n",
    "\n",
    "* **Función de costo**: "
   ]
  },
  {
   "cell_type": "markdown",
   "metadata": {},
   "source": [
    "---"
   ]
  },
  {
   "cell_type": "markdown",
   "metadata": {},
   "source": [
    "Supongamos que nuestro problema es ir desde Arad hasta Bucharest. Entonces creamos el problema así:"
   ]
  },
  {
   "cell_type": "code",
   "execution_count": 13,
   "metadata": {},
   "outputs": [],
   "source": [
    "viaje = ViajeRumania('Arad', 'Bucharest')"
   ]
  },
  {
   "cell_type": "markdown",
   "metadata": {},
   "source": [
    "Observe que el problema tiene un atributo de rutas, que podemos visualizar así:"
   ]
  },
  {
   "cell_type": "code",
   "execution_count": 14,
   "metadata": {},
   "outputs": [
    {
     "data": {
      "text/plain": [
       "{'Oradea': {'Zerind': 71, 'Sibiu': 151},\n",
       " 'Zerind': {'Arad': 75, 'Oradea': 71},\n",
       " 'Arad': {'Timisoara': 118, 'Sibiu': 140, 'Zerind': 71},\n",
       " 'Timisoara': {'Lugoj': 111, 'Arad': 118},\n",
       " 'Lugoj': {'Mehadia': 70, 'Timisoara': 111},\n",
       " 'Mehadia': {'Drobeta': 75, 'Lugoj': 70},\n",
       " 'Drobeta': {'Craiova': 120, 'Mehadia': 75},\n",
       " 'Sibiu': {'Fagaras': 99, 'Rimnicu Vilcea': 80, 'Arad': 140, 'Oradea': 151},\n",
       " 'Rimnicu Vilcea': {'Craiova': 146, 'Pitesti': 97, 'Sibiu': 80},\n",
       " 'Craiova': {'Pitesti': 138, 'Drobeta': 120, 'Rimnicu Vilcea': 146},\n",
       " 'Fagaras': {'Bucharest': 211, 'Sibiu': 99},\n",
       " 'Pitesti': {'Bucharest': 101, 'Craiova': 138, 'Rimnicu Vilcea': 97},\n",
       " 'Bucharest': {'Giurgiu': 90, 'Urziceni': 85, 'Fagaras': 211, 'Pitesti': 101},\n",
       " 'Giurgiu': {'Bucharest': 90},\n",
       " 'Urziceni': {'Vaslui': 142, 'Hirsova': 98, 'Bucharest': 85},\n",
       " 'Vaslui': {'Iasi': 92, 'Urziceni': 142},\n",
       " 'Iasi': {'Neamt': 87, 'Vaslui': 92},\n",
       " 'Neamt': {'Iasi': 87},\n",
       " 'Hirsova': {'Eforie': 86, 'Urziceni': 98},\n",
       " 'Eforie': {'Hirsova': 86}}"
      ]
     },
     "execution_count": 14,
     "metadata": {},
     "output_type": "execute_result"
    }
   ],
   "source": [
    "viaje.rutas"
   ]
  },
  {
   "cell_type": "markdown",
   "metadata": {},
   "source": [
    "Este atributo se utiliza tanto para encontrar las acciones aplicables como para determinar los costos de ir de una ciudad a una ciudad vecina."
   ]
  },
  {
   "cell_type": "markdown",
   "metadata": {},
   "source": [
    "## Algoritmo de Dijkstra <a class=\"anchor\" id=\"dijkstra\"></a>\n",
    "\n",
    "([Volver al inicio](#inicio))\n",
    "\n",
    "Al realizar una búsqueda en un espacio de estados usando una función de costo, creamos una frontera mediante una lista prioritaria. En esta lista, el valor de cada nodo es su costo camino. Observe que estos costos siempre crecerán a medida que aumentamos la longitud del camino. En este algoritmo primero expandimos el nodo de menor costo.\n",
    "\n",
    "El siguiente es el pseudocódigo del algoritmo:\n",
    "\n",
    "<div style=\"background-color:rgba(0, 0, 0, 0.0470588); padding:10px 0;font-family:monospace;\">\n",
    "<font style=\"font-weight: bold;\" color = \"red\">function</font> dijkstra(<font style=\"font-style: italic;\">problema</font>) <font style=\"font-weight: bold;\" color = \"red\">returns</font> <font style=\"font-style: italic;\">nodo</font> o falla <br>\n",
    "&nbsp;&nbsp; <font style=\"font-style: italic;\">s</font> &#8592; <font style=\"font-style: italic;\">problema</font>.estado_inicial <br>\n",
    "&nbsp;&nbsp; <font style=\"font-style: italic;\">cod</font> &#8592; <font style=\"font-style: italic;\">problema</font>.codigo(<font style=\"font-style: italic;\">s</font>) <br>\n",
    "&nbsp;&nbsp; <font style=\"font-style: italic;\">nodo</font> &#8592; NODO(<font style=\"font-style: italic;\">s</font>) <br>\n",
    "&nbsp;&nbsp; <font style=\"font-style: italic;\">frontera</font> &#8592; lista prioritaria con 1 item con key <font style=\"font-style: italic;\">nodo</font> y valor 0<br>\n",
    "&nbsp;&nbsp; <font style=\"font-style: italic;\">explorados</font> &#8592; diccionario con 1 item con key <font style=\"font-style: italic;\">cod</font> y valor 0 <br>\n",
    "&nbsp;&nbsp; <font style=\"font-weight: bold;\" color = \"red\">While not</font> VACIA(<font style=\"font-style: italic;\">frontera</font>) <font style=\"font-weight: bold;\" color = \"red\">do</font> <br> \n",
    "&nbsp;&nbsp;&nbsp;&nbsp; <font style=\"font-style: italic;\">nodo</font> &#8592; POP(<font style=\"font-style: italic;\">frontera</font>) <br>\n",
    "&nbsp;&nbsp;&nbsp;&nbsp; <font style=\"font-weight: bold;\" color = \"red\">if</font> <font style=\"font-style: italic;\">problema</font>.test_objetivo(<font style=\"font-style: italic;\">nodo</font>.estado) <font style=\"font-weight: bold;\" color = \"red\">then return</font> <font style=\"font-style: italic;\">nodo</font> <br>\n",
    "&nbsp;&nbsp;&nbsp;&nbsp; <font style=\"font-weight: bold;\" color = \"red\">for each</font> <font style=\"font-style: italic;\">hijo</font> <font style=\"font-weight: bold;\" color = \"red\">in</font> EXPAND(<font style=\"font-style: italic;\">problema</font>, <font style=\"font-style: italic;\">nodo</font>) <font style=\"font-weight: bold;\" color = \"red\">do</font> <br>\n",
    "&nbsp;&nbsp;&nbsp;&nbsp;&nbsp;&nbsp; <font style=\"font-style: italic;\">s</font> &#8592; <font style=\"font-style: italic;\">hijo</font>.estado<br>\n",
    "&nbsp;&nbsp;&nbsp;&nbsp;&nbsp;&nbsp; <font style=\"font-style: italic;\">cod</font> &#8592; <font style=\"font-style: italic;\">hijo</font>.codigo <br>\n",
    "&nbsp;&nbsp;&nbsp;&nbsp;&nbsp;&nbsp; <font style=\"font-style: italic;\">c</font> &#8592; <font style=\"font-style: italic;\">hijo</font>.costo_camino <br>\n",
    "&nbsp;&nbsp;&nbsp;&nbsp;&nbsp;&nbsp; <font style=\"font-weight: bold;\" color = \"red\">if</font> <font style=\"font-style: italic;\">cod</font> <font style=\"font-weight: bold;\" color = \"red\">not in</font> <font style=\"font-style: italic;\">explorados</font>.keys <font style=\"font-weight: bold;\" color = \"red\">or</font> <font style=\"font-style: italic;\">c</font> &#60; <font style=\"font-style: italic;\">explorados</font>[<font style=\"font-style: italic;\">cod</font>] <font style=\"font-weight: bold;\" color = \"red\">then</font> <br>\n",
    "&nbsp;&nbsp;&nbsp;&nbsp;&nbsp;&nbsp;&nbsp;&nbsp; ADD((<font style=\"font-style: italic;\">hijo</font>, <font style=\"font-style: italic;\">c</font>), <font style=\"font-style: italic;\">frontera</font>) <br>\n",
    "&nbsp;&nbsp;&nbsp;&nbsp;&nbsp;&nbsp;&nbsp;&nbsp; <font style=\"font-style: italic;\">explorados</font>[<font style=\"font-style: italic;\">cod</font>] &#8592; <font style=\"font-style: italic;\">c</font> <br>\n",
    "    &nbsp;&nbsp; <font style=\"font-weight: bold;\" color = \"red\">return</font> falla <br>\n",
    "</div>\n",
    "\n",
    "El algoritmo toma el estado inicial del problema, le calcula su código y, luego, crea el nodo raiz. A continuación, inicia la lista `frontera` como una lista prioritaria. También inicializa el diccionario `explorados`, mediante el cual se van a relacionar los nodos con su `costo_camino`. Este diccionario permitirá tanto llevar la cuenta de cuáles estados hemos visitado, como de asociar el costo en que se incurre para llegar hasta un estado particular partiendo desde el estado inicial."
   ]
  },
  {
   "cell_type": "markdown",
   "metadata": {},
   "source": [
    "<a class=\"anchor\" id=\"ej2\"></a>**Ejercicio 2:** \n",
    "\n",
    "([Anterior ejercicio](#ej1)) ([Próximo ejercicio](#ej3))\n",
    "\n",
    "Implemente el algoritmo de Dijkstra de acuerdo al anterior pseudocódigo. Verifique que la solución al problema del viaje a Rumania sea:\n",
    "\n",
    "```\n",
    "La solución mediante el algoritmo de Dijkstra es:\n",
    "['Arad', 'Sibiu', 'Rimnicu Vilcea', 'Pitesti', 'Bucharest']\n",
    "El costo de la solución es: 418\n",
    "```"
   ]
  },
  {
   "cell_type": "code",
   "execution_count": 15,
   "metadata": {},
   "outputs": [],
   "source": [
    "def dijkstra(problema):\n",
    "    pass\n",
    "    # AQUÍ SU CÓDIGO\n",
    "    \n",
    "    # HASTA AQUÍ SU CÓDIGO"
   ]
  },
  {
   "cell_type": "code",
   "execution_count": null,
   "metadata": {},
   "outputs": [],
   "source": [
    "viaje = ViajeRumania('Arad', 'Bucharest')\n",
    "solucion_dijkstra = dijkstra(viaje)\n",
    "camino_anchura = [viaje.estado_inicial] + solucion(solucion_dijkstra)\n",
    "print('La solución mediante el algoritmo de Dijkstra es:')\n",
    "print(camino_anchura)\n",
    "print('El costo de la solución es:', solucion_dijkstra.costo_camino)\n"
   ]
  },
  {
   "cell_type": "markdown",
   "metadata": {},
   "source": [
    "---"
   ]
  },
  {
   "cell_type": "markdown",
   "metadata": {},
   "source": [
    "**Cuando el orden de los factores sí altera el producto**\n",
    "\n",
    "Veremos ahora un ejemplo que nos permite justificar por qué la verificación de la prueba de satisfacción de objetivo se realiza al explorar la frontera, no al expandir un nodo. Observe que en el notebook 2 realizábamos esta verificación al expandir un nodo. Si encontrábamos una solución, estaba bien y concluíamos la búsqueda. En el algoritmo `best_first_search` somos un poco más cuidadosos y no verificamos sino hasta expandir la frontera de acuerdo a la lista prioritaria. La razón de esto podemos verla con un ejemplo.\n",
    "\n",
    "Consideremos el problema de ir desde Sibiu a Bucharest.\n",
    "\n",
    "<img src=\"./imagenes/Sibiu2Bucharest.png\" width=\"280px\"/>\n",
    "\n",
    "Los sucesores de Sibiu son Rimnicu Vilcea y Fagaras, con un coste de 80 y 99, respectivamente. El nodo de menor costo, Rimnicu Vilcea, se amplía a continuación, añadiendo Pitesti con un costo de 80+97=177. El nodo de menor costo es ahora Fagaras, por lo que se amplía, añadiendo Bucarest con un costo de 99 + 211 = 310. Bucarest es el objetivo, pero el algoritmo sólo comprueba los objetivos cuando expande un nodo, no cuando genera un nodo, por lo que aún no ha detectado que éste es un camino hacia el objetivo.\n",
    "\n",
    "El algoritmo continúa, eligiendo Pitesti para la siguiente expansión y añadiendo un segundo camino a Bucarest con un costo de 80 + 97 + 101 = 278. Tiene un costo menor, por lo que sustituye a la ruta anterior alcanzada y se añade a la frontera. Resulta que este nodo tiene ahora el costo más bajo, por lo que se considera el siguiente, se comprueba que es una meta y se devuelve. Nótese que si hubiéramos comprobado la existencia de un objetivo al generar un nodo en lugar de al ampliar el nodo de menor costo, habríamos devuelto un camino de mayor costo (el que pasa por Fagaras).\n",
    "\n"
   ]
  },
  {
   "cell_type": "markdown",
   "metadata": {},
   "source": [
    "## Búsqueda avara <a class=\"anchor\" id=\"avara\"></a>\n",
    "\n",
    "([Volver al inicio](#inicio))\n",
    "\n",
    "Hasta el momento hemos usado una función de costo para ordenar los nodos en la frontera. Esto nos permite explorar primero el nodo cuyo `costo_camino` sea óptimo hasta el momento. No obstante, también podemos ordenar los nodos usando un criterio distinto, llamado una *función heurística*.\n",
    "\n",
    "La idea de una heurística es usar información del problema específico que se desea resolver, de tal manera que, para cada estado $s$, se pueda obtener un *costo estimado* (o una *distancia*) para llegar desde $s$ a un estado objetivo dado.\n",
    "\n",
    "Ilustremos este concepto mediante el ambiente del viaje a Rumania. Observe que cada ciudad tiene una coordenada $(x,y)$. Una estimación del costo de llegar al objetivo desde el estado $(x,y)$ puede ser la distancia euclidiana entre este y el objetivo.\n",
    "\n",
    "<img src=\"./imagenes/Rumania1.png\" width=\"auto\"/>"
   ]
  },
  {
   "cell_type": "markdown",
   "metadata": {},
   "source": [
    "<a class=\"anchor\" id=\"ej3\"></a>**Ejercicio 3:** \n",
    "\n",
    "([Anterior ejercicio](#ej2)) ([Próximo ejercicio](#ej4))\n",
    "\n",
    "Implemente la función de distancia en el viaje a Rumania. Observe que cada ciudad tiene una coordenada:"
   ]
  },
  {
   "cell_type": "code",
   "execution_count": null,
   "metadata": {},
   "outputs": [],
   "source": [
    "viaje = ViajeRumania('Arad', 'Bucharest')\n",
    "viaje.coordenadas"
   ]
  },
  {
   "cell_type": "code",
   "execution_count": null,
   "metadata": {},
   "outputs": [],
   "source": [
    "def distancia(self, ciudad:str) -> float:\n",
    "    '''\n",
    "    Devuelve la distancia desde la ciudad hasta la ciudad objetivo\n",
    "    usando las coordenadas de cada una. Se implementa como un\n",
    "    método de la clase ViajeRumania.\n",
    "    Input:\n",
    "        - ciudad, que es el nombre de una ciudad\n",
    "    '''\n",
    "    pass\n",
    "    # AQUÍ SU CÓDIGO\n",
    "    \n",
    "    # HASTA AQUÍ SU CÓDIGO\n",
    "\n",
    "# Incluimos el método en la clase\n",
    "setattr(ViajeRumania, 'heuristica', distancia)\n",
    "# Instanciamos la clase con el problema de ir de Arad a Bucharest\n",
    "viaje = ViajeRumania('Arad', 'Bucharest')\n",
    "# Comprobamos la distancia de Arad a Bucharest\n",
    "viaje.heuristica('Arad')"
   ]
  },
  {
   "cell_type": "markdown",
   "metadata": {},
   "source": [
    "La respuesta debe ser:\n",
    "\n",
    "```\n",
    "493.6361150283255\n",
    "```"
   ]
  },
  {
   "cell_type": "markdown",
   "metadata": {},
   "source": [
    "---"
   ]
  },
  {
   "cell_type": "markdown",
   "metadata": {},
   "source": [
    "El siguiente es el pseudocódigo del algoritmo de búsqueda `avara`:\n",
    "\n",
    "<div style=\"background-color:rgba(0, 0, 0, 0.0470588); padding:10px 0;font-family:monospace;\">\n",
    "<font style=\"font-weight: bold;\" color = \"red\">function</font> avara(<font style=\"font-style: italic;\">problema</font>, <font style=\"font-style: italic;\">f</font>) <font style=\"font-weight: bold;\" color = \"red\">returns</font> <font style=\"font-style: italic;\">nodo</font> o falla <br>\n",
    "&nbsp;&nbsp; <font style=\"font-style: italic;\">s</font> &#8592; <font style=\"font-style: italic;\">problema</font>.estado_inicial <br>\n",
    "&nbsp;&nbsp; <font style=\"font-style: italic;\">nodo</font> &#8592; NODO(<font style=\"font-style: italic;\">s</font>) <br>\n",
    "&nbsp;&nbsp; <font style=\"font-style: italic;\">v</font> &#8592; <font style=\"font-style: italic;\">problema</font>.heuristica(<font style=\"font-style: italic;\">s</font>) <br>\n",
    "&nbsp;&nbsp; <font style=\"font-style: italic;\">frontera</font> &#8592; lista prioritaria con 1 item con key <font style=\"font-style: italic;\">nodo</font> y valor <font style=\"font-style: italic;\">v</font><br>\n",
    "&nbsp;&nbsp; <font style=\"font-weight: bold;\" color = \"red\">While not</font> VACIA(<font style=\"font-style: italic;\">frontera</font>) <font style=\"font-weight: bold;\" color = \"red\">do</font> <br> \n",
    "&nbsp;&nbsp;&nbsp;&nbsp; <font style=\"font-style: italic;\">nodo</font> &#8592; POP(<font style=\"font-style: italic;\">frontera</font>) <br>\n",
    "&nbsp;&nbsp;&nbsp;&nbsp; <font style=\"font-weight: bold;\" color = \"red\">if</font> <font style=\"font-style: italic;\">problema</font>.test_objetivo(<font style=\"font-style: italic;\">nodo</font>.estado) <font style=\"font-weight: bold;\" color = \"red\">then return</font> <font style=\"font-style: italic;\">nodo</font> <br>\n",
    "&nbsp;&nbsp;&nbsp;&nbsp; <font style=\"font-weight: bold;\" color = \"red\">for each</font> <font style=\"font-style: italic;\">hijo</font> <font style=\"font-weight: bold;\" color = \"red\">in</font> EXPAND(<font style=\"font-style: italic;\">problema</font>, <font style=\"font-style: italic;\">nodo</font>) <font style=\"font-weight: bold;\" color = \"red\">do</font> <br>\n",
    "&nbsp;&nbsp;&nbsp;&nbsp;&nbsp;&nbsp; <font style=\"font-weight: bold;\" color = \"red\">if not</font> is_cycle(<font style=\"font-style: italic;\">hijo</font>) <font style=\"font-weight: bold;\" color = \"red\">then</font> <br>\n",
    "&nbsp;&nbsp;&nbsp;&nbsp;&nbsp;&nbsp;&nbsp;&nbsp; <font style=\"font-style: italic;\">s</font> &#8592; <font style=\"font-style: italic;\">hijo</font>.estado<br>\n",
    "&nbsp;&nbsp;&nbsp;&nbsp;&nbsp;&nbsp;&nbsp;&nbsp; <font style=\"font-style: italic;\">v</font> &#8592; <font style=\"font-style: italic;\">problema</font>.heuristica(<font style=\"font-style: italic;\">s</font>) <br>\n",
    "&nbsp;&nbsp;&nbsp;&nbsp;&nbsp;&nbsp;&nbsp;&nbsp; ADD((<font style=\"font-style: italic;\">hijo</font>, <font style=\"font-style: italic;\">v</font>), <font style=\"font-style: italic;\">frontera</font>) <br>\n",
    "&nbsp;&nbsp; <font style=\"font-weight: bold;\" color = \"red\">return</font> falla <br>\n",
    "</div>\n",
    "\n",
    "\n"
   ]
  },
  {
   "cell_type": "markdown",
   "metadata": {},
   "source": [
    "<a class=\"anchor\" id=\"ej4\"></a>**Ejercicio 4:** \n",
    "\n",
    "([Anterior ejercicio](#ej3)) ([Próximo ejercicio](#ej5))\n",
    "\n",
    "Implemente el pseudocódigo de la función `avara` y utilícela para resolver el problema del viaje a Rumania.\n",
    "\n",
    "La respuesta debe ser:\n",
    "\n",
    "```\n",
    "La solución mediante la búsqueda avara es:\n",
    "['Arad', 'Sibiu', 'Fagaras', 'Bucharest']\n",
    "El costo de la solución es: 450\n",
    "```"
   ]
  },
  {
   "cell_type": "code",
   "execution_count": null,
   "metadata": {},
   "outputs": [],
   "source": [
    "def avara(problema):\n",
    "    pass\n",
    "    # AQUÍ SU CÓDIGO\n",
    "    \n",
    "    # HASTA AQUÍ SU CÓDIGO"
   ]
  },
  {
   "cell_type": "code",
   "execution_count": null,
   "metadata": {},
   "outputs": [],
   "source": [
    "viaje = ViajeRumania('Arad', 'Bucharest')\n",
    "solucion_avara = avara(viaje)\n",
    "camino_anchura = [viaje.estado_inicial] + solucion(solucion_avara)\n",
    "print('La solución mediante la búsqueda avara es:')\n",
    "print(camino_anchura)\n",
    "print('El costo de la solución es:', solucion_avara.costo_camino)"
   ]
  },
  {
   "cell_type": "markdown",
   "metadata": {},
   "source": [
    "---"
   ]
  },
  {
   "cell_type": "markdown",
   "metadata": {},
   "source": [
    "<a class=\"anchor\" id=\"ej5\"></a>**Ejercicio 5:** \n",
    "\n",
    "([Anterior ejercicio](#ej4)) ([Próximo ejercicio](#ej6))\n",
    "\n",
    "Resuelva el problema del viaje a Rumania mediante los métodos `anchura`, `profundidad`, `backtracking`, `dijkstra` y `avara`. Encuentre:\n",
    "\n",
    "    1. Tiempos promedio en CPU (use 1000 iteraciones)\n",
    "    2. Cantidad en kilómetros de la solución.\n",
    "    \n",
    "Dibuje una tabla con esta información y comente los resultados.\n",
    "\n",
    "**Nota: ¡No olvide comentar los resultados!**"
   ]
  },
  {
   "cell_type": "markdown",
   "metadata": {},
   "source": [
    "---"
   ]
  },
  {
   "cell_type": "markdown",
   "metadata": {},
   "source": [
    "## El problema del rompecabezas de 8 piezas <a class=\"anchor\" id=\"8puzzle\"></a>\n",
    "\n",
    "([Volver al inicio](#inicio))\n",
    "\n",
    "Considere ocho piezas cuadradas, cada una con un número del 1 al 8. Estas piezas se ponen en una caja cuadrada  formando un rompecabezas, de tal manera que queda un espacio del mismo tamaño que las piezas, como en la figura siguiente:\n",
    "\n",
    "<img src=\"./imagenes/puzzle1.png\" width=\"350px\"/>\n",
    "\n",
    "Las piezas adyacentes al espacio pueden desplazarse desde su posición hasta ocupar el espacio vacío, de tal manera que es posible cambiar el orden de todas las piezas. El problema consiste en, dada una posición del rompecabezas, encontrar una manera de mover las piezas para lograr otra posición deseada.\n",
    "\n",
    "La descripción formal del problema es como sigue:\n",
    "\n",
    "* **Estado inicial**: Un rompezabezas donde las piezas están dispuestas aleatoriamente.\n",
    "\n",
    "* **Posibles acciones**: Mover una ficha al espacio vacío. En cada configuración hay maximo cuatro fichas que pueden moverse al espacio vacío (cuando este está en el centro). Usualmente solo pueden moverse tres fichas o solo dos, cuando el espacio vacío está en una esquina. \n",
    "\n",
    "* **Función de transiciones**: Mover la ficha y obtener el tablero correspondiente.\n",
    "\n",
    "* **Prueba de satisfacción del objetivo**: El tablero está organizado como sigue:\n",
    "\n",
    "<img src=\"./imagenes/objetivo.png\" width=\"350px\"/>\n",
    "\n",
    "* **Función de costo**: Cada acción cuesta 1 punto."
   ]
  },
  {
   "cell_type": "markdown",
   "metadata": {},
   "source": [
    "Observe que podemos usar el método `pintar_camino` para visualizar el movimiento correspondiente de las piezas:"
   ]
  },
  {
   "cell_type": "code",
   "execution_count": null,
   "metadata": {
    "scrolled": false
   },
   "outputs": [],
   "source": [
    "puz = Rompecabezas()\n",
    "s = np.matrix([[3,1,2], [4,5,8], [0,6,7]])\n",
    "puz.estado_inicial = s\n",
    "camino = [((1, 2), (0, 2)), ((2, 2), (1, 2)), ((2, 1), (2, 2)), ((1, 1), (2, 1)), ((0, 1), (1, 1)), ((0, 0), (0, 1))]\n",
    "puz.pintar_camino(camino)"
   ]
  },
  {
   "cell_type": "markdown",
   "metadata": {},
   "source": [
    "El problema del rompecabezas es difícil, y usualmente le cuesta un buen tiempo a los métodos de `primero en anchura` y `primero en profundidad` converger en una solución. Si usted es curioso, trate de usar uno de estos métodos para resolver el problema. El resultado que usted debe obtener es una celda que se queda corriendo hasta que se agota la paciencia.\n",
    "\n",
    "El algoritmo de `dijkstra` es mucho más eficiente que los anteriores, pero aún puede mejorarse, como lo veremos en un momento. Por ahora, el ejercicio es resolver el problema del rompecabezas mediante `dijkstra` y la siguiente función de costo:"
   ]
  },
  {
   "cell_type": "code",
   "execution_count": null,
   "metadata": {},
   "outputs": [],
   "source": [
    "puz = Rompecabezas()\n",
    "s = np.matrix([[3,2,1], [5,4,6], [0,7,8]])\n",
    "puz.estado_inicial = s\n",
    "puz.pintar_estado(puz.estado_inicial)"
   ]
  },
  {
   "cell_type": "code",
   "execution_count": null,
   "metadata": {},
   "outputs": [],
   "source": [
    "%%time\n",
    "l = dijkstra(puz)\n",
    "if l is not None:\n",
    "    camino = solucion(l)\n",
    "    print(\"La solución encontrada es: \", camino)\n",
    "    print(\"La cantidad de movimientos es: \", len(camino))\n",
    "else:\n",
    "    print(\"No hay solución!\")"
   ]
  },
  {
   "cell_type": "markdown",
   "metadata": {},
   "source": [
    "Observe que en mi computador el algoritmo con costo uniforme tarda cerca de un minuto en converger a una solución.\n",
    "\n",
    "La solución encontrada la podemos visualizar mediante la siguiente instrucción:"
   ]
  },
  {
   "cell_type": "code",
   "execution_count": null,
   "metadata": {},
   "outputs": [],
   "source": [
    "puz.pintar_camino(camino)"
   ]
  },
  {
   "cell_type": "markdown",
   "metadata": {
    "scrolled": false
   },
   "source": [
    "## Heurísticas para el 8 puzzle <a class=\"anchor\" id=\"heuristicas\"></a>\n",
    "\n",
    "([Volver al inicio](#inicio))\n",
    "\n",
    "Las heurísticas son reglas de comportamiento que aprovechan el conocimiento específico sobre ciertos problemas. El problema del rompecabezas nos permite explicar esto mejor. Podemos evaluar una especie de distancia entre un estado dado y el estado objetivo mediante el conteo de piezas que no se encuentran en el lugar objetivo. Por ejemplo, considere el siguiente tablero:"
   ]
  },
  {
   "cell_type": "code",
   "execution_count": null,
   "metadata": {},
   "outputs": [],
   "source": [
    "puz = Rompecabezas()\n",
    "s = np.matrix([[3,1,2], [6,4,5], [0,7,8]])\n",
    "puz.pintar_estado(s)"
   ]
  },
  {
   "cell_type": "markdown",
   "metadata": {},
   "source": [
    "En este tablero hay dos piezas que no están en la posición objetivo, a saber, el 3 y el 6. Por lo tanto, la función heurística `piezas_mal_puestas` debe devolver el valor 2."
   ]
  },
  {
   "cell_type": "code",
   "execution_count": null,
   "metadata": {},
   "outputs": [],
   "source": [
    "puz = Rompecabezas()\n",
    "s = np.matrix([[3,1,2], [6,4,5], [0,7,8]])\n",
    "puz.pintar_estado(s)"
   ]
  },
  {
   "cell_type": "markdown",
   "metadata": {},
   "source": [
    "<a class=\"anchor\" id=\"ej6\"></a>**Ejercicio 6:** \n",
    "\n",
    "([Anterior ejercicio](#ej5)) ([Próximo ejercicio](#ej7))\n",
    "\n",
    "Implemente la función `piezas_mal_puestas`.\n",
    "\n",
    "**Nota: Para facilidad de la implementación, asuma que el espacio vacío es una pieza.**\n",
    "\n",
    "La respuesta de la siguiente celda debe ser:\n",
    "```\n",
    "Número de piezas mal puestas de s1: 3\n",
    "Número de piezas mal puestas de s2: 6\n",
    "Número de piezas mal puestas de s3: 7\n",
    "```"
   ]
  },
  {
   "cell_type": "code",
   "execution_count": null,
   "metadata": {},
   "outputs": [],
   "source": [
    "def piezas_mal_puestas(self, estado:np.matrix) -> int:\n",
    "    '''\n",
    "    Devuelve el número de piezas mal puestas.\n",
    "    Debe ser implementado como el método de una clase.\n",
    "    Input:\n",
    "        - estado, que es una matriz con el estado a evaluar\n",
    "    Output:\n",
    "        - entero con el número de piezas mal puestas\n",
    "    '''\n",
    "    pass \n",
    "\n",
    "    objetivo = self.objetivo\n",
    "\n",
    "    # COMIENCE AQUÍ SU CÓDIGO\n",
    "\n",
    "    # AQUÍ TERMINA SU CÓDIGO\n",
    "\n",
    "# Incluimos el método en la clase\n",
    "setattr(Rompecabezas, 'heuristica', piezas_mal_puestas)\n",
    "# Instanciamos la clase con el problema del rompecabezas\n",
    "puz = Rompecabezas()\n",
    "# Hacemos las comprobaciones\n",
    "s1 = np.matrix([[3,1,2], [6,4,5], [0,7,8]])\n",
    "puz.pintar_estado(s1)\n",
    "print('Número de piezas mal puestas de s1:', puz.heuristica(s1))\n",
    "s2 = np.matrix([[3,2,1], [5,4,6], [0,7,8]])\n",
    "puz.pintar_estado(s2)\n",
    "print('Número de piezas mal puestas de s2:', puz.heuristica(s2))\n",
    "s3 = np.matrix([[6, 3, 2], [7, 4, 0], [8, 5, 1]])\n",
    "print('Número de piezas mal puestas de s3:', puz.heuristica(s3))\n",
    "puz.pintar_estado(s3)"
   ]
  },
  {
   "cell_type": "markdown",
   "metadata": {},
   "source": [
    "---"
   ]
  },
  {
   "cell_type": "markdown",
   "metadata": {},
   "source": [
    "Otra heurística para el problema del rompecabezas es el siguiente. La distancia entre un estado y el objetivo se mide como la suma de las distancias entre cada pieza y su lugar objetivo. Esta última distancia se mide como la distancia del taxista, es decir, la suma de las distancias verticales y horizontales. Por ejemplo, suponga el siguiente estado:"
   ]
  },
  {
   "cell_type": "code",
   "execution_count": null,
   "metadata": {},
   "outputs": [],
   "source": [
    "puz = Rompecabezas()\n",
    "s = np.matrix([[0,3,2], [4,1,5], [6,7,8]])\n",
    "puz.pintar_estado(s)\n"
   ]
  },
  {
   "cell_type": "markdown",
   "metadata": {},
   "source": [
    "Observe que el 1 está a una casilla de su lugar (una abajo), el cuatro está a una casilla de su lugar (una a la izquierda) y el 3 está a dos casillas de su lugar (una arriba y una a la derecha. El valor de la heurística `manhattan` debe ser 1 + 1 + 2 = 4. "
   ]
  },
  {
   "cell_type": "markdown",
   "metadata": {},
   "source": [
    "<a class=\"anchor\" id=\"ej7\"></a>**Ejercicio 7:** \n",
    "\n",
    "([Anterior ejercicio](#ej6)) ([Próximo ejercicio](#ej8))\n",
    "\n",
    "Implemente la función `manhattan`.\n",
    "\n",
    "**Nota: Para facilidad de la implementación, asuma que el espacio vacío es una pieza.**\n",
    "\n",
    "La respuesta debe ser:\n",
    "\n",
    "```\n",
    "Distancia Manhattan de s1: 4\n",
    "Distancia Manhattan de s2: 10\n",
    "Distancia Manhattan de s3: 16\n",
    "```"
   ]
  },
  {
   "cell_type": "code",
   "execution_count": null,
   "metadata": {},
   "outputs": [],
   "source": [
    "def manhattan(self, estado:np.matrix) -> int:\n",
    "    '''\n",
    "    Devuelve la suma de la distancia Manhattan de las piezas \n",
    "    respecto a su lugar objetivo en el rompecabezas.\n",
    "    Debe ser implementado como el método de una clase.\n",
    "    Input:\n",
    "        - estado, que es una matriz con el estado a evaluar\n",
    "    Output:\n",
    "        - entero con la distancia Manhattan\n",
    "    '''\n",
    "    pass\n",
    "\n",
    "    objetivo = self.objetivo\n",
    "\n",
    "    # COMIENCE AQUÍ SU CÓDIGO\n",
    "\n",
    "    # AQUÍ TERMINA SU CÓDIGO\n",
    "\n",
    "# Incluimos el método en la clase\n",
    "setattr(Rompecabezas, 'heuristica', manhattan)\n",
    "# Instanciamos la clase con el problema del rompecabezas\n",
    "puz = Rompecabezas()\n",
    "# Hacemos las comprobaciones\n",
    "s1 = np.matrix([[3,1,2], [6,4,5], [0,7,8]])\n",
    "puz.pintar_estado(s1)\n",
    "print('Distancia Manhattan de s1:', puz.heuristica(s1))\n",
    "s2 = np.matrix([[3,2,1], [5,4,6], [0,7,8]])\n",
    "puz.pintar_estado(s2)\n",
    "print('Distancia Manhattan de s2:', puz.heuristica(s2))\n",
    "s3 = np.matrix([[6, 3, 2], [7, 4, 0], [8, 5, 1]])\n",
    "print('Distancia Manhattan de s3:', puz.heuristica(s3))\n",
    "puz.pintar_estado(s3)"
   ]
  },
  {
   "cell_type": "markdown",
   "metadata": {},
   "source": [
    "---"
   ]
  },
  {
   "cell_type": "markdown",
   "metadata": {},
   "source": [
    "## Comparando heurísticas <a class=\"anchor\" id=\"compara\"></a>\n",
    "\n",
    "([Volver al inicio](#inicio))\n",
    "\n",
    "Al ordenar los nodos explorados mediante una función heurística, lo que se busca es explorar primero aquel nodo que se acerque más al objetivo. Hemos definido dos maneras de estimar esta idea y es hora de compararlas mediante el tiempo de CPU."
   ]
  },
  {
   "cell_type": "markdown",
   "metadata": {},
   "source": [
    "<a class=\"anchor\" id=\"ej8\"></a>**Ejercicio 8:** \n",
    "\n",
    "([Anterior ejercicio](#ej7)) ([Próximo ejercicio](#ej9))\n",
    "\n",
    "Compare el tiempo de CPU de las dos heurísticas en el algoritmo de búsqueda `avara`. ¿Cuál tiene mejor tiempo de búsqueda? Comente la solución que se obtiene al correr las siguientes celdas."
   ]
  },
  {
   "cell_type": "code",
   "execution_count": null,
   "metadata": {},
   "outputs": [],
   "source": [
    "# Definimos los rompecabezas a evaluar\n",
    "s1 = np.matrix([[3,1,2], [4,5,8], [0,6,7]])\n",
    "s2 = np.matrix([[4,1,2], [3,0,5], [6,7,8]])\n",
    "s3 = np.matrix([[3,2,1], [5,4,6], [0,7,8]])\n",
    "s4 = np.matrix([[1,3,2], [7,4,0], [8,5,6]])\n",
    "estados = [s1, s3, s4]\n",
    "# Definimos las heurísticas\n",
    "heuristicas = [piezas_mal_puestas, manhattan]\n",
    "nombres = ['piezas_mal_puestas', 'manhattan']\n",
    "# Creamos el test suite\n",
    "lista_tests, lista_nombres = test_suit_heuristicas_rompecabezas(estados, heuristicas, nombres)\n",
    "lista_funs = [avara]*len(lista_tests)"
   ]
  },
  {
   "cell_type": "code",
   "execution_count": null,
   "metadata": {},
   "outputs": [],
   "source": [
    "data = compara_funciones(lista_funs=lista_funs, \n",
    "                         lista_args=lista_tests, \n",
    "                         lista_nombres=lista_nombres, \n",
    "                         num_it=10)\n",
    "data.groupby('Función').agg({'tiempo_CPU':['mean', 'std']})"
   ]
  },
  {
   "cell_type": "code",
   "execution_count": null,
   "metadata": {
    "scrolled": false
   },
   "outputs": [],
   "source": [
    "fig, ax = plt.subplots(1,1, figsize=(1.5*len(funs),3), tight_layout=True)\n",
    "sns.boxplot(data=data, x='Función', y='tiempo_CPU')\n",
    "fig.savefig('box_puzzle.png')"
   ]
  },
  {
   "cell_type": "markdown",
   "metadata": {},
   "source": [
    "**Respuesta:**\n",
    "\n",
    "La heurística `manhattan` encuentra una solución de manera más rápida. Esto es así porque ella estima más precisamente qué tan diferente es un estado del objetivo. Por ejemplo, si el 1 esta a tres fichas de distancia, `manhattan` devuelve el valor 3, mientras que si está a dos fichas de distancia, devuelve 2. En ambos casos `piezas_mal_puestas` devuelve el valor 1, sin importar que se necesiten más movimientos en la primera que en la segunda para poner el 1 en su lugar."
   ]
  },
  {
   "cell_type": "markdown",
   "metadata": {},
   "source": [
    "---"
   ]
  },
  {
   "cell_type": "markdown",
   "metadata": {},
   "source": [
    "## Algoritmo A$^*$ <a class=\"anchor\" id=\"a_star\"></a>\n",
    "\n",
    "([Volver al inicio](#inicio))\n",
    "\n",
    "Veremos el algoritmo A$^*$, el cual es una forma de Best First Search. En este caso, la evaluación $f$ de los nodos se hace mediante la suma entre su costo_camino $g$ y una heurística $h$ que estima el costo mínimo desde el nodo hasta la solución.\n",
    "\n",
    "$$f(n) = g(n) + h(n)$$\n",
    "\n",
    "El siguiente es el pseudocódigo del algoritmo A$^*$:\n",
    "\n",
    "<div style=\"background-color:rgba(0, 0, 0, 0.0470588); padding:10px 0;font-family:monospace;\">\n",
    "<font style=\"font-weight: bold;\" color = \"red\">function</font> A_star(<font style=\"font-style: italic;\">problema</font>) <font style=\"font-weight: bold;\" color = \"red\">returns</font> <font style=\"font-style: italic;\">nodo</font> o falla <br>\n",
    "&nbsp;&nbsp; <font style=\"font-style: italic;\">s</font> &#8592; <font style=\"font-style: italic;\">problema</font>.estado_inicial <br>\n",
    "&nbsp;&nbsp; <font style=\"font-style: italic;\">v</font> &#8592; <font style=\"font-style: italic;\">problema</font>.heuristica(<font style=\"font-style: italic;\">s</font>) <br>\n",
    "&nbsp;&nbsp; <font style=\"font-style: italic;\">cod</font> &#8592; <font style=\"font-style: italic;\">problema</font>.codigo(<font style=\"font-style: italic;\">s</font>) <br>\n",
    "&nbsp;&nbsp; <font style=\"font-style: italic;\">nodo</font> &#8592; NODO(<font style=\"font-style: italic;\">s</font>) <br>\n",
    "&nbsp;&nbsp; <font style=\"font-style: italic;\">frontera</font> &#8592; lista prioritaria con 1 item con key <font style=\"font-style: italic;\">nodo</font> y valor v<br>\n",
    "&nbsp;&nbsp; <font style=\"font-style: italic;\">explorados</font> &#8592; diccionario con 1 item con key <font style=\"font-style: italic;\">cod</font> y valor v <br>\n",
    "&nbsp;&nbsp; <font style=\"font-weight: bold;\" color = \"red\">While not</font> VACIA(<font style=\"font-style: italic;\">frontera</font>) <font style=\"font-weight: bold;\" color = \"red\">do</font> <br> \n",
    "&nbsp;&nbsp;&nbsp;&nbsp; <font style=\"font-style: italic;\">nodo</font> &#8592; POP(<font style=\"font-style: italic;\">frontera</font>) <br>\n",
    "&nbsp;&nbsp;&nbsp;&nbsp; <font style=\"font-weight: bold;\" color = \"red\">if</font> <font style=\"font-style: italic;\">problema</font>.test_objetivo(<font style=\"font-style: italic;\">nodo</font>.estado) <font style=\"font-weight: bold;\" color = \"red\">then return</font> <font style=\"font-style: italic;\">nodo</font> <br>\n",
    "&nbsp;&nbsp;&nbsp;&nbsp; <font style=\"font-weight: bold;\" color = \"red\">for each</font> <font style=\"font-style: italic;\">hijo</font> <font style=\"font-weight: bold;\" color = \"red\">in</font> EXPAND(<font style=\"font-style: italic;\">problema</font>, <font style=\"font-style: italic;\">nodo</font>) <font style=\"font-weight: bold;\" color = \"red\">do</font> <br>\n",
    "&nbsp;&nbsp;&nbsp;&nbsp;&nbsp;&nbsp; <font style=\"font-style: italic;\">s</font> &#8592; <font style=\"font-style: italic;\">hijo</font>.estado<br>\n",
    "&nbsp;&nbsp;&nbsp;&nbsp;&nbsp;&nbsp; <font style=\"font-style: italic;\">v</font> &#8592; <font style=\"font-style: italic;\">problema</font>.heuristica(<font style=\"font-style: italic;\">s</font>) <br>\n",
    "&nbsp;&nbsp;&nbsp;&nbsp;&nbsp;&nbsp; <font style=\"font-style: italic;\">cod</font> &#8592; <font style=\"font-style: italic;\">hijo</font>.codigo <br>\n",
    "&nbsp;&nbsp;&nbsp;&nbsp;&nbsp;&nbsp; <font style=\"font-style: italic;\">c</font> &#8592; <font style=\"font-style: italic;\">hijo</font>.costo_camino <br>\n",
    "&nbsp;&nbsp;&nbsp;&nbsp;&nbsp;&nbsp; <font style=\"font-style: italic;\">h</font> &#8592; <font style=\"font-style: italic;\">v</font> + <font style=\"font-style: italic;\">c</font><br>\n",
    "&nbsp;&nbsp;&nbsp;&nbsp;&nbsp;&nbsp; <font style=\"font-weight: bold;\" color = \"red\">if</font> <font style=\"font-style: italic;\">cod</font> <font style=\"font-weight: bold;\" color = \"red\">not in</font> <font style=\"font-style: italic;\">explorados</font>.keys <font style=\"font-weight: bold;\" color = \"red\">or</font> <font style=\"font-style: italic;\">h</font> &#60; <font style=\"font-style: italic;\">explorados</font>[<font style=\"font-style: italic;\">cod</font>] <font style=\"font-weight: bold;\" color = \"red\">then</font> <br>\n",
    "&nbsp;&nbsp;&nbsp;&nbsp;&nbsp;&nbsp;&nbsp;&nbsp; ADD((<font style=\"font-style: italic;\">hijo</font>, <font style=\"font-style: italic;\">h</font>), <font style=\"font-style: italic;\">frontera</font>) <br>\n",
    "&nbsp;&nbsp;&nbsp;&nbsp;&nbsp;&nbsp;&nbsp;&nbsp; <font style=\"font-style: italic;\">explorados</font>[<font style=\"font-style: italic;\">cod</font>] &#8592; <font style=\"font-style: italic;\">h</font> <br>\n",
    "    &nbsp;&nbsp; <font style=\"font-weight: bold;\" color = \"red\">return</font> falla <br>\n",
    "</div>\n",
    "\n",
    "**$A^*$ con pesos**\n",
    "\n",
    "Una versión más poderosa del algoritmo $A^*$ es el llamado $A^*$ con pesos, en el cual la función de evaluación incluye una modificación del término heurístico por un factor $W$, de la siguiente manera:\n",
    "\n",
    "$$f(n) = g(n) + W\\times h(n)$$\n",
    "\n",
    "donde $W > 1$. Esto significa que la función de evaluación da mayor peso al estimado de la función heurística, sin dejar de considerar el costo camino."
   ]
  },
  {
   "cell_type": "markdown",
   "metadata": {},
   "source": [
    "<a class=\"anchor\" id=\"ej9\"></a>**Ejercicio 9:** \n",
    "\n",
    "([Anterior ejercicio](#ej8))\n",
    "\n",
    "Implemente el algoritmo $A^*$ con pesos y pruebe a resolver el problema del rompecabezas siguiente."
   ]
  },
  {
   "cell_type": "code",
   "execution_count": null,
   "metadata": {},
   "outputs": [],
   "source": [
    "def A_star(problema, W=2.5):\n",
    "    pass\n",
    "    # AQUÍ SU CÓDIGO\n",
    "    \n",
    "    # HASTA AQUÍ SU CÓDIGO"
   ]
  },
  {
   "cell_type": "code",
   "execution_count": null,
   "metadata": {},
   "outputs": [],
   "source": [
    "setattr(Rompecabezas, 'heuristica', manhattan)\n",
    "puz = Rompecabezas()\n",
    "s = np.matrix([[3,2,1], [5,4,6], [0,7,8]])\n",
    "puz.estado_inicial = s\n",
    "puz.pintar_estado(puz.estado_inicial)"
   ]
  },
  {
   "cell_type": "code",
   "execution_count": null,
   "metadata": {},
   "outputs": [],
   "source": [
    "%%time\n",
    "l = A_star(puz)\n",
    "if l is not None:\n",
    "    camino = solucion(l)\n",
    "    print(\"La solución encontrada es: \", camino)\n",
    "    print(\"La cantidad de movimientos es: \", len(camino))\n",
    "else:\n",
    "    print(\"No hay solución!\")"
   ]
  },
  {
   "cell_type": "markdown",
   "metadata": {},
   "source": [
    "---"
   ]
  },
  {
   "cell_type": "markdown",
   "metadata": {},
   "source": [
    "**Comparación entre búsqueda avara y $A^*$**\n",
    "\n",
    "Vamos a comparar la búsqueda avara y $A^*$, en ambos casos usando la heurística de la distancia Manhattan. También incluimos un peso de $W=2.5$ en la heurística para la versión $A^*$ con pesos."
   ]
  },
  {
   "cell_type": "code",
   "execution_count": null,
   "metadata": {},
   "outputs": [],
   "source": [
    "# Definimos los rompecabezas a evaluar\n",
    "s1 = np.matrix([[3,1,2], [4,5,8], [0,6,7]])\n",
    "s2 = np.matrix([[4,1,2], [3,0,5], [6,7,8]])\n",
    "s3 = np.matrix([[3,2,1], [5,4,6], [0,7,8]])\n",
    "s4 = np.matrix([[1,3,2], [7,4,0], [8,5,6]])\n",
    "estados = [s1, s3, s4]\n",
    "# Definimos las heurísticas\n",
    "heuristicas = [manhattan]\n",
    "nombres = ['manhattan']\n",
    "# Creamos el test suite\n",
    "lista_tests, lista_nombres = test_suit_heuristicas_rompecabezas(estados, heuristicas, nombres)\n",
    "lista_funs = [avara]*len(lista_tests) + [lambda prob: A_star(prob, W=2.5)]*len(lista_tests)\n",
    "lista_nombres += ['$A^*$']*len(lista_tests)\n",
    "lista_tests += lista_tests"
   ]
  },
  {
   "cell_type": "code",
   "execution_count": null,
   "metadata": {},
   "outputs": [],
   "source": [
    "data = compara_funciones(lista_funs=lista_funs, \n",
    "                         lista_args=lista_tests, \n",
    "                         lista_nombres=lista_nombres, \n",
    "                         num_it=10)\n",
    "data.groupby('Función').agg({'tiempo_CPU':['mean', 'std']})"
   ]
  },
  {
   "cell_type": "code",
   "execution_count": null,
   "metadata": {},
   "outputs": [],
   "source": [
    "fig, ax = plt.subplots(1,1, figsize=(1.5*len(lista_funs),3), tight_layout=True)\n",
    "sns.boxplot(data=data, x='Función', y='tiempo_CPU')\n",
    "fig.savefig('box_puzzle1.png')"
   ]
  },
  {
   "cell_type": "markdown",
   "metadata": {},
   "source": [
    "## En este notebook usted aprendió\n",
    "\n",
    "([Volver al inicio](#inicio))\n",
    "\n",
    "* Cómo realizar una búsqueda mediante el algoritmo de Dijkstra, la búsqueda avara y el algoritmo $A^*$.\n",
    "* Implementar y comparar distintas heurísticas para resolver el problema del rompecabezas.\n",
    "* Comparar los tiempos y la optimalidad de las heurísticas."
   ]
  },
  {
   "cell_type": "markdown",
   "metadata": {},
   "source": [
    "---"
   ]
  }
 ],
 "metadata": {
  "colab": {
   "name": "arboles_busqueda.ipynb",
   "provenance": []
  },
  "kernelspec": {
   "display_name": "Python 3 (ipykernel)",
   "language": "python",
   "name": "python3"
  },
  "language_info": {
   "codemirror_mode": {
    "name": "ipython",
    "version": 3
   },
   "file_extension": ".py",
   "mimetype": "text/x-python",
   "name": "python",
   "nbconvert_exporter": "python",
   "pygments_lexer": "ipython3",
   "version": "3.10.9"
  }
 },
 "nbformat": 4,
 "nbformat_minor": 1
}
